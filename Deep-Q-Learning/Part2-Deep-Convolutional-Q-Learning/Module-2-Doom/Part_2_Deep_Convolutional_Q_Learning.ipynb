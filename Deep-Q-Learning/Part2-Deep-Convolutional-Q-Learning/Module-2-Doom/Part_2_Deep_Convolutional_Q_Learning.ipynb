{
 "cells": [
  {
   "cell_type": "markdown",
   "metadata": {
    "id": "zaC5dBzI1pFK"
   },
   "source": [
    "# Part 2 - Deep Convolutional Q-Learning"
   ]
  },
  {
   "cell_type": "markdown",
   "metadata": {
    "id": "KQVnB6cvvZ4A"
   },
   "source": [
    "### Installing system dependencies for VizDoom"
   ]
  },
  {
   "cell_type": "code",
   "execution_count": 1,
   "metadata": {
    "id": "AkVnx4F0s3dD",
    "colab": {
     "base_uri": "https://localhost:8080/"
    },
    "outputId": "62166993-d637-4a1f-de97-ef3b13fd66f4"
   },
   "outputs": [
    {
     "name": "stdout",
     "output_type": "stream",
     "text": [
      "Hit:1 http://security.ubuntu.com/ubuntu bionic-security InRelease\n",
      "Ign:2 https://developer.download.nvidia.com/compute/cuda/repos/ubuntu1804/x86_64  InRelease\n",
      "Hit:3 https://cloud.r-project.org/bin/linux/ubuntu bionic-cran40/ InRelease\n",
      "Ign:4 https://developer.download.nvidia.com/compute/machine-learning/repos/ubuntu1804/x86_64  InRelease\n",
      "Hit:5 https://developer.download.nvidia.com/compute/cuda/repos/ubuntu1804/x86_64  Release\n",
      "Hit:6 http://archive.ubuntu.com/ubuntu bionic InRelease\n",
      "Hit:7 https://developer.download.nvidia.com/compute/machine-learning/repos/ubuntu1804/x86_64  Release\n",
      "Hit:8 http://archive.ubuntu.com/ubuntu bionic-updates InRelease\n",
      "Hit:10 http://archive.ubuntu.com/ubuntu bionic-backports InRelease\n",
      "Hit:11 http://ppa.launchpad.net/c2d4u.team/c2d4u4.0+/ubuntu bionic InRelease\n",
      "Hit:13 http://ppa.launchpad.net/cran/libgit2/ubuntu bionic InRelease\n",
      "Hit:14 http://ppa.launchpad.net/deadsnakes/ppa/ubuntu bionic InRelease\n",
      "Hit:15 http://ppa.launchpad.net/graphics-drivers/ppa/ubuntu bionic InRelease\n",
      "Reading package lists... Done\n",
      "Reading package lists... Done\n",
      "Building dependency tree       \n",
      "Reading state information... Done\n",
      "build-essential is already the newest version (12.4ubuntu1).\n",
      "libgtk2.0-dev is already the newest version (2.24.32-1ubuntu1).\n",
      "libjpeg-dev is already the newest version (8c-2ubuntu8).\n",
      "zlib1g-dev is already the newest version (1:1.2.11.dfsg-0ubuntu2).\n",
      "libfluidsynth-dev is already the newest version (1.1.9-1).\n",
      "libgme-dev is already the newest version (0.6.2-1).\n",
      "libopenal-dev is already the newest version (1:1.18.2-2).\n",
      "libwildmidi-dev is already the newest version (0.4.2-1).\n",
      "nasm is already the newest version (2.13.02-0.1).\n",
      "timidity is already the newest version (2.13.2-41).\n",
      "cmake is already the newest version (3.10.2-1ubuntu2.18.04.2).\n",
      "git is already the newest version (1:2.17.1-1ubuntu0.8).\n",
      "libbz2-dev is already the newest version (1.0.6-8.1ubuntu0.2).\n",
      "tar is already the newest version (1.29b-2ubuntu0.2).\n",
      "unzip is already the newest version (6.0-21ubuntu1.1).\n",
      "libsdl2-dev is already the newest version (2.0.8+dfsg1-1ubuntu1.18.04.4).\n",
      "0 upgraded, 0 newly installed, 0 to remove and 71 not upgraded.\n",
      "Reading package lists... Done\n",
      "Building dependency tree       \n",
      "Reading state information... Done\n",
      "libboost-all-dev is already the newest version (1.65.1.0ubuntu1).\n",
      "0 upgraded, 0 newly installed, 0 to remove and 71 not upgraded.\n",
      "Reading package lists... Done\n",
      "Building dependency tree       \n",
      "Reading state information... Done\n",
      "Note, selecting 'liblua5.1-0-dev' instead of 'liblua5.1-dev'\n",
      "liblua5.1-0-dev is already the newest version (5.1.5-8.1build2).\n",
      "0 upgraded, 0 newly installed, 0 to remove and 71 not upgraded.\n",
      "Reading package lists... Done\n",
      "Building dependency tree       \n",
      "Reading state information... Done\n",
      "libgtk2.0-dev is already the newest version (2.24.32-1ubuntu1).\n",
      "python-numpy is already the newest version (1:1.13.3-2ubuntu1).\n",
      "libboost-all-dev is already the newest version (1.65.1.0ubuntu1).\n",
      "cmake is already the newest version (3.10.2-1ubuntu2.18.04.2).\n",
      "git is already the newest version (1:2.17.1-1ubuntu0.8).\n",
      "libsdl2-dev is already the newest version (2.0.8+dfsg1-1ubuntu1.18.04.4).\n",
      "0 upgraded, 0 newly installed, 0 to remove and 71 not upgraded.\n",
      "fatal: destination path 'vizdoomgym' already exists and is not an empty directory.\n",
      "Obtaining file:///content/vizdoomgym\n",
      "Collecting vizdoom@ https://github.com/mwydmuch/ViZDoom/tarball/1.1.8pre\n",
      "  Using cached https://github.com/mwydmuch/ViZDoom/tarball/1.1.8pre\n",
      "Requirement already satisfied: gym in /usr/local/lib/python3.7/dist-packages (from vizdoomgym==1.0) (0.17.3)\n",
      "Requirement already satisfied: numpy in /usr/local/lib/python3.7/dist-packages (from vizdoomgym==1.0) (1.19.5)\n",
      "Requirement already satisfied: pre-commit in /usr/local/lib/python3.7/dist-packages (from vizdoomgym==1.0) (2.13.0)\n",
      "Requirement already satisfied: pyglet<=1.5.0,>=1.4.0 in /usr/local/lib/python3.7/dist-packages (from gym->vizdoomgym==1.0) (1.5.0)\n",
      "Requirement already satisfied: scipy in /usr/local/lib/python3.7/dist-packages (from gym->vizdoomgym==1.0) (1.1.0)\n",
      "Requirement already satisfied: cloudpickle<1.7.0,>=1.2.0 in /usr/local/lib/python3.7/dist-packages (from gym->vizdoomgym==1.0) (1.3.0)\n",
      "Requirement already satisfied: future in /usr/local/lib/python3.7/dist-packages (from pyglet<=1.5.0,>=1.4.0->gym->vizdoomgym==1.0) (0.16.0)\n",
      "Requirement already satisfied: identify>=1.0.0 in /usr/local/lib/python3.7/dist-packages (from pre-commit->vizdoomgym==1.0) (2.2.11)\n",
      "Requirement already satisfied: nodeenv>=0.11.1 in /usr/local/lib/python3.7/dist-packages (from pre-commit->vizdoomgym==1.0) (1.6.0)\n",
      "Requirement already satisfied: pyyaml>=5.1 in /usr/local/lib/python3.7/dist-packages (from pre-commit->vizdoomgym==1.0) (5.4.1)\n",
      "Requirement already satisfied: importlib-metadata in /usr/local/lib/python3.7/dist-packages (from pre-commit->vizdoomgym==1.0) (4.6.1)\n",
      "Requirement already satisfied: toml in /usr/local/lib/python3.7/dist-packages (from pre-commit->vizdoomgym==1.0) (0.10.2)\n",
      "Requirement already satisfied: cfgv>=2.0.0 in /usr/local/lib/python3.7/dist-packages (from pre-commit->vizdoomgym==1.0) (3.3.0)\n",
      "Requirement already satisfied: virtualenv>=20.0.8 in /usr/local/lib/python3.7/dist-packages (from pre-commit->vizdoomgym==1.0) (20.6.0)\n",
      "Requirement already satisfied: platformdirs<3,>=2 in /usr/local/lib/python3.7/dist-packages (from virtualenv>=20.0.8->pre-commit->vizdoomgym==1.0) (2.0.2)\n",
      "Requirement already satisfied: six<2,>=1.9.0 in /usr/local/lib/python3.7/dist-packages (from virtualenv>=20.0.8->pre-commit->vizdoomgym==1.0) (1.15.0)\n",
      "Requirement already satisfied: backports.entry-points-selectable>=1.0.4 in /usr/local/lib/python3.7/dist-packages (from virtualenv>=20.0.8->pre-commit->vizdoomgym==1.0) (1.1.0)\n",
      "Requirement already satisfied: filelock<4,>=3.0.0 in /usr/local/lib/python3.7/dist-packages (from virtualenv>=20.0.8->pre-commit->vizdoomgym==1.0) (3.0.12)\n",
      "Requirement already satisfied: distlib<1,>=0.3.1 in /usr/local/lib/python3.7/dist-packages (from virtualenv>=20.0.8->pre-commit->vizdoomgym==1.0) (0.3.2)\n",
      "Requirement already satisfied: typing-extensions>=3.6.4 in /usr/local/lib/python3.7/dist-packages (from importlib-metadata->pre-commit->vizdoomgym==1.0) (3.7.4.3)\n",
      "Requirement already satisfied: zipp>=0.5 in /usr/local/lib/python3.7/dist-packages (from importlib-metadata->pre-commit->vizdoomgym==1.0) (3.5.0)\n",
      "Installing collected packages: vizdoomgym\n",
      "  Attempting uninstall: vizdoomgym\n",
      "    Found existing installation: vizdoomgym 1.0\n",
      "    Can't uninstall 'vizdoomgym'. No files were found to uninstall.\n",
      "  Running setup.py develop for vizdoomgym\n",
      "Successfully installed vizdoomgym-1.0\n",
      "Requirement already satisfied: pillow in /usr/local/lib/python3.7/dist-packages (7.1.2)\n",
      "Requirement already satisfied: scipy==1.1.0 in /usr/local/lib/python3.7/dist-packages (1.1.0)\n",
      "Requirement already satisfied: numpy>=1.8.2 in /usr/local/lib/python3.7/dist-packages (from scipy==1.1.0) (1.19.5)\n"
     ]
    }
   ],
   "source": [
    "!sudo apt-get update\n",
    "!sudo apt-get install build-essential zlib1g-dev libsdl2-dev libjpeg-dev nasm tar libbz2-dev libgtk2.0-dev cmake git libfluidsynth-dev libgme-dev libopenal-dev timidity libwildmidi-dev unzip\n",
    "!sudo apt-get install libboost-all-dev\n",
    "!apt-get install liblua5.1-dev\n",
    "!sudo apt-get install cmake libboost-all-dev libgtk2.0-dev libsdl2-dev python-numpy git\n",
    "!git clone https://github.com/shakenes/vizdoomgym.git\n",
    "!python3 -m pip install -e vizdoomgym/\n",
    "!pip install pillow\n",
    "!pip install scipy==1.1.0"
   ]
  },
  {
   "cell_type": "markdown",
   "metadata": {
    "id": "sYSYxa3A3rPm"
   },
   "source": [
    "### **IMPORTANT NOTE: After installing all dependencies, restart your runtime**"
   ]
  },
  {
   "cell_type": "markdown",
   "metadata": {
    "id": "yqwU0xvmps6f"
   },
   "source": [
    "## ------------------------- IMAGE PREPROCESSING (image_preprocessing.py) -------------------------"
   ]
  },
  {
   "cell_type": "markdown",
   "metadata": {
    "id": "HNxep0W2v5eR"
   },
   "source": [
    "### Importing the libraries"
   ]
  },
  {
   "cell_type": "code",
   "execution_count": 2,
   "metadata": {
    "id": "Av98EDA6wAyb"
   },
   "outputs": [],
   "source": [
    "import numpy as np\n",
    "from scipy.misc import imresize\n",
    "from gym.core import ObservationWrapper\n",
    "from gym.spaces.box import Box"
   ]
  },
  {
   "cell_type": "markdown",
   "metadata": {
    "id": "hYg83uMKwW9j"
   },
   "source": [
    "### Preprocessing the images"
   ]
  },
  {
   "cell_type": "code",
   "execution_count": 3,
   "metadata": {
    "id": "mAKQuJpa3EEI"
   },
   "outputs": [],
   "source": [
    "class PreprocessImage(ObservationWrapper):\n",
    "    \n",
    "    def __init__(self, env, height = 64, width = 64, grayscale = True, crop = lambda img: img):\n",
    "        super(PreprocessImage, self).__init__(env)\n",
    "        self.img_size = (height, width)\n",
    "        self.grayscale = grayscale\n",
    "        self.crop = crop\n",
    "        n_colors = 1 if self.grayscale else 3\n",
    "        self.observation_space = Box(0.0, 1.0, [n_colors, height, width])\n",
    "\n",
    "    def observation(self, img):\n",
    "        img = self.crop(img)\n",
    "        img = imresize(img, self.img_size)\n",
    "        if self.grayscale:\n",
    "            img = img.mean(-1, keepdims = True)\n",
    "        img = np.transpose(img, (2, 0, 1))\n",
    "        img = img.astype('float32') / 255.\n",
    "        return img"
   ]
  },
  {
   "cell_type": "markdown",
   "metadata": {
    "id": "nkb3sY94oxR0"
   },
   "source": [
    "## ------------------------- EXPERIENCE REPLAY (experience_replay.py) -------------------------"
   ]
  },
  {
   "cell_type": "markdown",
   "metadata": {
    "id": "m77JIgY5_3-i"
   },
   "source": [
    "### Importing the libraries"
   ]
  },
  {
   "cell_type": "code",
   "execution_count": 4,
   "metadata": {
    "id": "SyftpA_J_69n"
   },
   "outputs": [],
   "source": [
    "import numpy as np\n",
    "from collections import namedtuple, deque"
   ]
  },
  {
   "cell_type": "markdown",
   "metadata": {
    "id": "kMaHr_X-oiXJ"
   },
   "source": [
    "### Defining One Step"
   ]
  },
  {
   "cell_type": "code",
   "execution_count": 5,
   "metadata": {
    "id": "xQZwk7xgomh_"
   },
   "outputs": [],
   "source": [
    "Step = namedtuple('Step', ['state', 'action', 'reward', 'done'])"
   ]
  },
  {
   "cell_type": "markdown",
   "metadata": {
    "id": "VeA93OwL97Mn"
   },
   "source": [
    "### Making the AI progress on several (n_step) steps"
   ]
  },
  {
   "cell_type": "code",
   "execution_count": 6,
   "metadata": {
    "id": "LQDLILP-x6h3"
   },
   "outputs": [],
   "source": [
    "class NStepProgress:\n",
    "    \n",
    "    def __init__(self, env, ai, n_step):\n",
    "        self.ai = ai\n",
    "        self.rewards = []\n",
    "        self.env = env\n",
    "        self.n_step = n_step\n",
    "    \n",
    "    def __iter__(self):\n",
    "        state = self.env.reset()\n",
    "        history = deque()\n",
    "        reward = 0.0\n",
    "        while True:\n",
    "            action = self.ai(np.array([state]))[0][0]\n",
    "            next_state, r, is_done, _ = self.env.step(action)\n",
    "            reward += r\n",
    "            history.append(Step(state = state, action = action, reward = r, done = is_done))\n",
    "            while len(history) > self.n_step + 1:\n",
    "                history.popleft()\n",
    "            if len(history) == self.n_step + 1:\n",
    "                yield tuple(history)\n",
    "            state = next_state\n",
    "            if is_done:\n",
    "                if len(history) > self.n_step + 1:\n",
    "                    history.popleft()\n",
    "                while len(history) >= 1:\n",
    "                    yield tuple(history)\n",
    "                    history.popleft()\n",
    "                self.rewards.append(reward)\n",
    "                reward = 0.0\n",
    "                state = self.env.reset()\n",
    "                history.clear()\n",
    "    \n",
    "    def rewards_steps(self):\n",
    "        rewards_steps = self.rewards\n",
    "        self.rewards = []\n",
    "        return rewards_steps"
   ]
  },
  {
   "cell_type": "markdown",
   "metadata": {
    "id": "68rUlP2Y9-H-"
   },
   "source": [
    "### Implementing Experience Replay"
   ]
  },
  {
   "cell_type": "code",
   "execution_count": 7,
   "metadata": {
    "id": "d2fvc_4Ltmkf"
   },
   "outputs": [],
   "source": [
    "class ReplayMemory:\n",
    "    \n",
    "    def __init__(self, n_steps, capacity = 10000):\n",
    "        self.capacity = capacity\n",
    "        self.n_steps = n_steps\n",
    "        self.n_steps_iter = iter(n_steps)\n",
    "        self.buffer = deque()\n",
    "\n",
    "    def sample_batch(self, batch_size): # creates an iterator that returns random batches\n",
    "        ofs = 0\n",
    "        vals = list(self.buffer)\n",
    "        np.random.shuffle(vals)\n",
    "        while (ofs+1)*batch_size <= len(self.buffer):\n",
    "            yield vals[ofs*batch_size:(ofs+1)*batch_size]\n",
    "            ofs += 1\n",
    "\n",
    "    def run_steps(self, samples):\n",
    "        while samples > 0:\n",
    "            entry = next(self.n_steps_iter) # 10 consecutive steps\n",
    "            self.buffer.append(entry) # we put 200 for the current episode\n",
    "            samples -= 1\n",
    "        while len(self.buffer) > self.capacity: # we accumulate no more than the capacity (10000)\n",
    "            self.buffer.popleft()"
   ]
  },
  {
   "cell_type": "markdown",
   "metadata": {
    "id": "FPwjy3NWsnYa"
   },
   "source": [
    "## ------------------------- AI FOR DOOM (ai.py) -------------------------"
   ]
  },
  {
   "cell_type": "markdown",
   "metadata": {
    "id": "u5zFNqHemeCK"
   },
   "source": [
    "### Importing the libraries"
   ]
  },
  {
   "cell_type": "code",
   "execution_count": 8,
   "metadata": {
    "id": "ub4nIzcgy7mh"
   },
   "outputs": [],
   "source": [
    "import numpy as np\n",
    "import torch\n",
    "import torch.nn as nn\n",
    "import torch.nn.functional as F\n",
    "import torch.optim as optim\n",
    "from torch.autograd import Variable"
   ]
  },
  {
   "cell_type": "markdown",
   "metadata": {
    "id": "6yhJRW-3iYMX"
   },
   "source": [
    "### Importing the packages for OpenAI and Doom"
   ]
  },
  {
   "cell_type": "code",
   "execution_count": 9,
   "metadata": {
    "id": "FnsThiOsiYSD"
   },
   "outputs": [],
   "source": [
    "import gym\n",
    "import vizdoomgym\n",
    "from gym import wrappers"
   ]
  },
  {
   "cell_type": "markdown",
   "metadata": {
    "id": "zmojGP0H-BzI"
   },
   "source": [
    "## Part 1 - Building the AI"
   ]
  },
  {
   "cell_type": "markdown",
   "metadata": {
    "id": "i-ukjFhR-Gpv"
   },
   "source": [
    "### Making the Brain"
   ]
  },
  {
   "cell_type": "code",
   "execution_count": 10,
   "metadata": {
    "id": "iNCe7smpy9-x"
   },
   "outputs": [],
   "source": [
    "class CNN(nn.Module):\n",
    "    \n",
    "    def __init__(self, number_actions):\n",
    "        super(CNN, self).__init__()\n",
    "        self.convolution1 = nn.Conv2d(in_channels = 1, out_channels = 32, kernel_size = 5)\n",
    "        self.convolution2 = nn.Conv2d(in_channels = 32, out_channels = 32, kernel_size = 3)\n",
    "        self.convolution3 = nn.Conv2d(in_channels = 32, out_channels = 64, kernel_size = 2)\n",
    "        self.fc1 = nn.Linear(in_features = self.count_neurons((1, 256, 256)), out_features = 40)\n",
    "        self.fc2 = nn.Linear(in_features = 40, out_features = number_actions)\n",
    "\n",
    "    def count_neurons(self, image_dim):\n",
    "        x = Variable(torch.rand(1, *image_dim))\n",
    "        x = F.relu(F.max_pool2d(self.convolution1(x), 3, 2))\n",
    "        x = F.relu(F.max_pool2d(self.convolution2(x), 3, 2))\n",
    "        x = F.relu(F.max_pool2d(self.convolution3(x), 3, 2))\n",
    "        return x.data.view(1, -1).size(1)\n",
    "\n",
    "    def forward(self, x):\n",
    "        x = F.relu(F.max_pool2d(self.convolution1(x), 3, 2))\n",
    "        x = F.relu(F.max_pool2d(self.convolution2(x), 3, 2))\n",
    "        x = F.relu(F.max_pool2d(self.convolution3(x), 3, 2))\n",
    "        x = x.view(x.size(0), -1)\n",
    "        x = F.relu(self.fc1(x))\n",
    "        x = self.fc2(x)\n",
    "        return x"
   ]
  },
  {
   "cell_type": "markdown",
   "metadata": {
    "id": "3Tcc4Rma-IlR"
   },
   "source": [
    "### Making the Body"
   ]
  },
  {
   "cell_type": "code",
   "execution_count": 11,
   "metadata": {
    "id": "RnuK2xfRz4zf"
   },
   "outputs": [],
   "source": [
    "class SoftmaxBody(nn.Module):\n",
    "    \n",
    "    def __init__(self, T):\n",
    "        super(SoftmaxBody, self).__init__()\n",
    "        self.T = T\n",
    "\n",
    "    def forward(self, outputs, number_actions=1):\n",
    "        probs = F.softmax(outputs * self.T)  \n",
    "        actions = probs.multinomial(num_samples=number_actions)\n",
    "        return actions"
   ]
  },
  {
   "cell_type": "markdown",
   "metadata": {
    "id": "Rw-X1XWt-Ky1"
   },
   "source": [
    "### Making the AI"
   ]
  },
  {
   "cell_type": "code",
   "execution_count": 12,
   "metadata": {
    "id": "JfnhPGSAz48B"
   },
   "outputs": [],
   "source": [
    "class AI:\n",
    "\n",
    "    def __init__(self, brain, body):\n",
    "        self.brain = brain\n",
    "        self.body = body\n",
    "\n",
    "    def __call__(self, inputs):\n",
    "        input = Variable(torch.from_numpy(np.array(inputs, dtype = np.float32)))\n",
    "        output = self.brain(input)\n",
    "        actions = self.body(output)\n",
    "        return actions.data.numpy()"
   ]
  },
  {
   "cell_type": "markdown",
   "metadata": {
    "id": "MYd3od1emzwo"
   },
   "source": [
    "## Part 2 - Training the AI with Deep Convolutional Q-Learning"
   ]
  },
  {
   "cell_type": "markdown",
   "metadata": {
    "id": "eql5YrXU-NX-"
   },
   "source": [
    "### Getting the Doom environment"
   ]
  },
  {
   "cell_type": "code",
   "execution_count": 13,
   "metadata": {
    "id": "JqfmQqbE2MFG",
    "colab": {
     "base_uri": "https://localhost:8080/"
    },
    "outputId": "64cce293-6509-4243-9ad2-2967fcab74e7"
   },
   "outputs": [
    {
     "name": "stdout",
     "output_type": "stream",
     "text": [
      "Cannot connect to \"None\"\n"
     ]
    }
   ],
   "source": [
    "doom_env = PreprocessImage(gym.make('VizdoomCorridor-v0'), width = 256, height = 256, grayscale = True)\n",
    "doom_env = wrappers.Monitor(doom_env, \"videos\", force = True)\n",
    "number_actions = doom_env.action_space.n"
   ]
  },
  {
   "cell_type": "markdown",
   "metadata": {
    "id": "13klJXK1nRwC"
   },
   "source": [
    "### Building an AI"
   ]
  },
  {
   "cell_type": "code",
   "execution_count": 14,
   "metadata": {
    "id": "6OX44kYzwCxU",
    "colab": {
     "base_uri": "https://localhost:8080/"
    },
    "outputId": "76ea73fd-4198-46f2-8f9f-326dcb885075"
   },
   "outputs": [
    {
     "name": "stderr",
     "output_type": "stream",
     "text": [
      "/usr/local/lib/python3.7/dist-packages/torch/nn/functional.py:718: UserWarning: Named tensors and all their associated APIs are an experimental feature and subject to change. Please do not use them for anything important until they are released as stable. (Triggered internally at  /pytorch/c10/core/TensorImpl.h:1156.)\n",
      "  return torch.max_pool2d(input, kernel_size, stride, padding, dilation, ceil_mode)\n"
     ]
    }
   ],
   "source": [
    "cnn = CNN(number_actions)\n",
    "softmax_body = SoftmaxBody(T = 1.0)\n",
    "ai = AI(brain = cnn, body = softmax_body)"
   ]
  },
  {
   "cell_type": "markdown",
   "metadata": {
    "id": "ZOtPlK1YnZUp"
   },
   "source": [
    "### Setting up Experience Replay"
   ]
  },
  {
   "cell_type": "code",
   "execution_count": 15,
   "metadata": {
    "id": "kyDvfKLxnZaG"
   },
   "outputs": [],
   "source": [
    "n_steps = NStepProgress(env = doom_env, ai = ai, n_step = 10)\n",
    "memory = ReplayMemory(n_steps = n_steps, capacity = 10000)"
   ]
  },
  {
   "cell_type": "markdown",
   "metadata": {
    "id": "6kydH6Nengnu"
   },
   "source": [
    "### Implementing Eligibility Trace"
   ]
  },
  {
   "cell_type": "code",
   "execution_count": 16,
   "metadata": {
    "id": "4hMk8IUBwIMi"
   },
   "outputs": [],
   "source": [
    "def eligibility_trace(batch):\n",
    "    gamma = 0.99\n",
    "    inputs = []\n",
    "    targets = []\n",
    "    for series in batch:\n",
    "        input = Variable(torch.from_numpy(np.array([series[0].state, series[-1].state], dtype = np.float32)))\n",
    "        output = cnn(input)\n",
    "        cumul_reward = 0.0 if series[-1].done else output[1].data.max()\n",
    "        for step in reversed(series[:-1]):\n",
    "            cumul_reward = step.reward + gamma * cumul_reward\n",
    "        state = series[0].state\n",
    "        target = output[0].data\n",
    "        target[series[0].action] = cumul_reward\n",
    "        inputs.append(state)\n",
    "        targets.append(target)\n",
    "    return torch.from_numpy(np.array(inputs, dtype = np.float32)), torch.stack(targets)"
   ]
  },
  {
   "cell_type": "markdown",
   "metadata": {
    "id": "LtpYvtmfnugD"
   },
   "source": [
    "### Making the moving average on 100 steps"
   ]
  },
  {
   "cell_type": "code",
   "execution_count": 17,
   "metadata": {
    "id": "3R_P7WqswRB0"
   },
   "outputs": [],
   "source": [
    "class MA:\n",
    "    def __init__(self, size):\n",
    "        self.list_of_rewards = []\n",
    "        self.size = size\n",
    "    def add(self, rewards):\n",
    "        if isinstance(rewards, list):\n",
    "            self.list_of_rewards += rewards\n",
    "        else:\n",
    "            self.list_of_rewards.append(rewards)\n",
    "        while len(self.list_of_rewards) > self.size:\n",
    "            del self.list_of_rewards[0]\n",
    "    def average(self):\n",
    "        return np.mean(self.list_of_rewards)\n",
    "ma = MA(100)"
   ]
  },
  {
   "cell_type": "markdown",
   "metadata": {
    "id": "ilnk4zdR-T73"
   },
   "source": [
    "### Training the AI"
   ]
  },
  {
   "cell_type": "code",
   "execution_count": 18,
   "metadata": {
    "id": "SXtPVCUGwSfY",
    "colab": {
     "base_uri": "https://localhost:8080/"
    },
    "outputId": "ebbd9fdc-cad0-49e4-80b8-9f8167cdcb21"
   },
   "outputs": [
    {
     "name": "stderr",
     "output_type": "stream",
     "text": [
      "/usr/local/lib/python3.7/dist-packages/ipykernel_launcher.py:13: DeprecationWarning:     `imresize` is deprecated!\n",
      "    `imresize` is deprecated in SciPy 1.0.0, and will be removed in 1.2.0.\n",
      "    Use ``skimage.transform.resize`` instead.\n",
      "  del sys.path[0]\n",
      "/usr/local/lib/python3.7/dist-packages/ipykernel_launcher.py:8: UserWarning: Implicit dimension choice for softmax has been deprecated. Change the call to include dim=X as an argument.\n",
      "  \n"
     ]
    },
    {
     "name": "stdout",
     "output_type": "stream",
     "text": [
      "Epoch: 1, Average Reward: -114.52156829833984\n",
      "Epoch: 2, Average Reward: -114.52156829833984\n",
      "Epoch: 3, Average Reward: -25.48755645751953\n",
      "Epoch: 4, Average Reward: 84.72074454171317\n",
      "Epoch: 5, Average Reward: 80.0147774436257\n",
      "Epoch: 6, Average Reward: 120.3839601789202\n",
      "Epoch: 7, Average Reward: 139.47112319048713\n",
      "Epoch: 8, Average Reward: 133.9052471584744\n",
      "Epoch: 9, Average Reward: 138.34348987397692\n",
      "Epoch: 10, Average Reward: 149.43725776672363\n",
      "Epoch: 11, Average Reward: 138.15733391898019\n",
      "Epoch: 12, Average Reward: 152.67039637411796\n",
      "Epoch: 13, Average Reward: 167.5748816097484\n",
      "Epoch: 14, Average Reward: 153.26638472707648\n",
      "Epoch: 15, Average Reward: 156.10834968380811\n",
      "Epoch: 16, Average Reward: 163.98689998279917\n",
      "Epoch: 17, Average Reward: 165.301074663798\n",
      "Epoch: 18, Average Reward: 167.0294647216797\n",
      "Epoch: 19, Average Reward: 170.52337816026477\n",
      "Epoch: 20, Average Reward: 172.17523874555314\n"
     ]
    }
   ],
   "source": [
    "loss = nn.MSELoss()\n",
    "optimizer = optim.Adam(cnn.parameters(), lr = 0.001)\n",
    "nb_epochs = 20\n",
    "for epoch in range(1, nb_epochs + 1):\n",
    "    memory.run_steps(samples=200)\n",
    "    for batch in memory.sample_batch(128):\n",
    "        inputs, targets = eligibility_trace(batch)\n",
    "        inputs, targets = Variable(inputs), Variable(targets)\n",
    "        predictions = cnn(inputs)\n",
    "        loss_error = loss(predictions, targets)\n",
    "        optimizer.zero_grad()\n",
    "        loss_error.backward()\n",
    "        optimizer.step()\n",
    "    rewards_steps = n_steps.rewards_steps()\n",
    "    ma.add(rewards_steps)\n",
    "    avg_reward = ma.average()\n",
    "    print(\"Epoch: %s, Average Reward: %s\" % (str(epoch), str(avg_reward)))"
   ]
  },
  {
   "cell_type": "markdown",
   "metadata": {
    "id": "Le1t1oG5-WCW"
   },
   "source": [
    "## ----- EXTRA CODE ONLY SPECIFIC TO THIS COLAB NOTEBOOK - VISUALIZING THE AI IN ACTION -----"
   ]
  },
  {
   "cell_type": "markdown",
   "metadata": {
    "id": "4AT2264rZHvd"
   },
   "source": [
    "### Importing the libraries"
   ]
  },
  {
   "cell_type": "code",
   "execution_count": 19,
   "metadata": {
    "id": "6eCUhUyIZGmY"
   },
   "outputs": [],
   "source": [
    "import os\n",
    "import cv2\n",
    "import glob\n",
    "import gym\n",
    "import vizdoomgym\n",
    "import matplotlib.pyplot as plt\n",
    "from collections import Counter\n",
    "from gym.wrappers import Monitor"
   ]
  },
  {
   "cell_type": "markdown",
   "metadata": {
    "id": "kiFw9mX8ZUIy"
   },
   "source": [
    "### Printing the input shape and number of possible actions"
   ]
  },
  {
   "cell_type": "code",
   "execution_count": 20,
   "metadata": {
    "id": "dvyGlfUUZcFV",
    "colab": {
     "base_uri": "https://localhost:8080/"
    },
    "outputId": "b1cb70de-cf48-4c77-fb41-d475d4068b52"
   },
   "outputs": [
    {
     "name": "stdout",
     "output_type": "stream",
     "text": [
      "Number of possible actions:  7\n",
      "(240, 320, 3)\n"
     ]
    }
   ],
   "source": [
    "env = gym.make('VizdoomCorridor-v0')\n",
    "action_num = env.action_space.n\n",
    "print(\"Number of possible actions: \", action_num)\n",
    "state = env.reset()\n",
    "state, reward, done, info = env.step(env.action_space.sample())\n",
    "print(state.shape)\n",
    "env.close()"
   ]
  },
  {
   "cell_type": "markdown",
   "metadata": {
    "id": "w7JgjufrZy6S"
   },
   "source": [
    "### Displaying a frame of the environment just to see how it is like"
   ]
  },
  {
   "cell_type": "code",
   "execution_count": 21,
   "metadata": {
    "id": "vOqMJj76ZxpO",
    "colab": {
     "base_uri": "https://localhost:8080/",
     "height": 286.0
    },
    "outputId": "3c357d6c-e6b8-4675-ddc8-6e619b6c2b3f"
   },
   "outputs": [
    {
     "data": {
      "image/png": "[encoded data removed]",
      "text/plain": [
       "<Figure size 432x288 with 1 Axes>"
      ]
     },
     "metadata": {
      "tags": [],
      "needs_background": "light"
     },
     "output_type": "display_data"
    },
    {
     "name": "stdout",
     "output_type": "stream",
     "text": [
      "(240, 320, 3)\n"
     ]
    }
   ],
   "source": [
    "observation = env.reset()\n",
    "plt.imshow(observation)\n",
    "plt.show()\n",
    "print(observation.shape)"
   ]
  },
  {
   "cell_type": "markdown",
   "metadata": {
    "id": "5cdZuHmZ-ZrC"
   },
   "source": [
    "### Making a helper function for the visualization"
   ]
  },
  {
   "cell_type": "code",
   "execution_count": 22,
   "metadata": {
    "id": "zlOoqIqywW3I"
   },
   "outputs": [],
   "source": [
    "def wrap_env(env):\n",
    "  env = Monitor(env, './vid',video_callable=lambda episode_id:True, force=True)\n",
    "  return env"
   ]
  },
  {
   "cell_type": "markdown",
   "metadata": {
    "id": "pvu5TKfH-c6-"
   },
   "source": [
    "### Running the AI on one episode"
   ]
  },
  {
   "cell_type": "code",
   "execution_count": 23,
   "metadata": {
    "id": "DEj72bI05NeH",
    "colab": {
     "base_uri": "https://localhost:8080/"
    },
    "outputId": "ddb4fe91-a50a-4e69-eabe-dc52c3378bb5"
   },
   "outputs": [
    {
     "name": "stderr",
     "output_type": "stream",
     "text": [
      "/usr/local/lib/python3.7/dist-packages/ipykernel_launcher.py:13: DeprecationWarning:     `imresize` is deprecated!\n",
      "    `imresize` is deprecated in SciPy 1.0.0, and will be removed in 1.2.0.\n",
      "    Use ``skimage.transform.resize`` instead.\n",
      "  del sys.path[0]\n"
     ]
    }
   ],
   "source": [
    "gym_env = PreprocessImage(gym.make('VizdoomCorridor-v0'), width = 256, height = 256, grayscale = True)\n",
    "gym_env = wrappers.Monitor(gym_env, \"videos\", force = True)\n",
    "environment = wrap_env(gym_env)\n",
    "done = False\n",
    "observation = environment.reset()\n",
    "new_observation = observation\n",
    "actions_counter = Counter()\n",
    "prev_input = None\n",
    "img_array=[]\n",
    "while True:\n",
    "    # Feeding the game screen and getting the Q values for each action\n",
    "    actions = cnn(Variable(Variable(torch.from_numpy(observation.reshape(1, 1, 256, 256)))))\n",
    "    # Getting the action\n",
    "    action = np.argmax(actions.detach().numpy(), axis=-1)\n",
    "    actions_counter[str(action)] += 1 \n",
    "    # Selecting the action using epsilon greedy policy\n",
    "    environment.render()\n",
    "    observation = new_observation        \n",
    "    # Now performing the action and moving to the next state, next_obs, receive reward\n",
    "    new_observation, reward, done, _ = environment.step(action)\n",
    "    img_array.append(new_observation)\n",
    "    if done: \n",
    "        # observation = env.reset()\n",
    "        break\n",
    "environment.close()"
   ]
  },
  {
   "cell_type": "markdown",
   "metadata": {
    "id": "p75VoM6Inlo7"
   },
   "source": [
    "### Outputting the video of the gameplay"
   ]
  },
  {
   "cell_type": "code",
   "execution_count": 24,
   "metadata": {
    "id": "hHj2NJl4nqSj"
   },
   "outputs": [],
   "source": [
    "folder_name = \"gameplay_frames\"\n",
    "video_name = \"agent_gameplay.avi\"\n",
    "\n",
    "if not os.path.exists(folder_name):\n",
    "    os.makedirs(folder_name)\n",
    "\n",
    "for i in range(len(img_array)):\n",
    "    plt.imsave(\"{}/{}_frame.jpg\".format(folder_name, i), img_array[i].reshape(256, 256))\n",
    "\n",
    "files = glob.glob(os.path.expanduser(\"{}/*\".format(folder_name)))\n",
    "frames_array = []\n",
    "\n",
    "for filename in sorted(files, key=lambda t: os.stat(t).st_mtime):\n",
    "    img = cv2.imread(filename)\n",
    "    height, width, layers = img.shape\n",
    "    size = (width,height)\n",
    "    frames_array.append(img)\n",
    "\n",
    "out = cv2.VideoWriter(video_name, cv2.VideoWriter_fourcc(*'DIVX'), 15, size)\n",
    "\n",
    "for i in range(len(frames_array)):\n",
    "    out.write(frames_array[i])\n",
    "\n",
    "out.release()"
   ]
  }
 ],
 "metadata": {
  "colab": {
   "name": "Part 2 - Deep Convolutional Q-Learning",
   "provenance": [],
   "collapsed_sections": []
  },
  "kernelspec": {
   "name": "python3",
   "display_name": "Python 3"
  }
 },
 "nbformat": 4,
 "nbformat_minor": 0
}
